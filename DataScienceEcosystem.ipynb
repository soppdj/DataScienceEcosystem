{
 "cells": [
  {
   "cell_type": "markdown",
   "id": "6429b61a",
   "metadata": {},
   "source": [
    "# Data Science Tools and Ecosystem"
   ]
  },
  {
   "cell_type": "markdown",
   "id": "5262abf3",
   "metadata": {},
   "source": [
    "In this notebook, Data Science Tools and Ecosystem are summarized."
   ]
  },
  {
   "cell_type": "markdown",
   "id": "8e40ddd7",
   "metadata": {},
   "source": [
    "Some of the popular languages that Data Scientists use are:\n",
    "\n",
    "1. **Python**\n",
    "2. **R**\n",
    "3. **SQL (Structured Query Language)**\n",
    "4. **Julia**\n",
    "5. **Java**\n",
    "6. **Scala**"
   ]
  },
  {
   "cell_type": "markdown",
   "id": "bf08abad",
   "metadata": {},
   "source": [
    "Some of the commonly used libraries used by Data Scientists include:\n",
    "\n",
    "1. **NumPy**\n",
    "2. **Pandas**\n",
    "3. **Matplotlib**\n",
    "4. **Scikit-learn**\n",
    "5. **TensorFlow**\n",
    "6. **PyTorch**"
   ]
  },
  {
   "cell_type": "markdown",
   "id": "838ec3a5",
   "metadata": {},
   "source": [
    "Data Science Tools\n",
    "1. **Jupyter Notebooks**\n",
    "2. **RStudio**    \n",
    "3. **VS Code** "
   ]
  },
  {
   "cell_type": "markdown",
   "id": "c6065804",
   "metadata": {},
   "source": [
    "### Below are a few examples of evaluating arithmetic expressions in Python."
   ]
  },
  {
   "cell_type": "code",
   "execution_count": 1,
   "id": "09620553",
   "metadata": {},
   "outputs": [
    {
     "data": {
      "text/plain": [
       "17"
      ]
     },
     "execution_count": 1,
     "metadata": {},
     "output_type": "execute_result"
    }
   ],
   "source": [
    "# This is a simple arithmetic expression to multiply then add integers.\n",
    "result = (3 * 4) + 5\n",
    "result"
   ]
  },
  {
   "cell_type": "code",
   "execution_count": 2,
   "id": "54264fbe",
   "metadata": {},
   "outputs": [
    {
     "data": {
      "text/plain": [
       "3.3333333333333335"
      ]
     },
     "execution_count": 2,
     "metadata": {},
     "output_type": "execute_result"
    }
   ],
   "source": [
    "# This will convert 200 minutes to hours by dividing by 60.\n",
    "minutes = 200\n",
    "hours = minutes / 60\n",
    "hours"
   ]
  },
  {
   "cell_type": "code",
   "execution_count": null,
   "id": "d94f0ab8",
   "metadata": {},
   "outputs": [],
   "source": [
    "**Objectives:**\n",
    "\n",
    "* List popular languages for Data Science.\n",
    "* Describe the Data Science workflow.\n",
    "* Demonstrate basic data manipulation techniques.\n",
    "* Visualize data using Python libraries.\n",
    "* Apply machine learning algorithms to solve problems."
   ]
  },
  {
   "cell_type": "markdown",
   "id": "5d50167a",
   "metadata": {},
   "source": [
    "## Author\n",
    "\n",
    "Sopianto\n"
   ]
  }
 ],
 "metadata": {
  "kernelspec": {
   "display_name": "Python 3 (ipykernel)",
   "language": "python",
   "name": "python3"
  },
  "language_info": {
   "codemirror_mode": {
    "name": "ipython",
    "version": 3
   },
   "file_extension": ".py",
   "mimetype": "text/x-python",
   "name": "python",
   "nbconvert_exporter": "python",
   "pygments_lexer": "ipython3",
   "version": "3.11.5"
  }
 },
 "nbformat": 4,
 "nbformat_minor": 5
}
